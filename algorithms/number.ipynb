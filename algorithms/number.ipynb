{
 "cells": [
  {
   "cell_type": "code",
   "execution_count": 1,
   "metadata": {},
   "outputs": [],
   "source": [
    "import math \n",
    "import time"
   ]
  },
  {
   "cell_type": "markdown",
   "metadata": {},
   "source": [
    "- Fizz Buzz問題の実装\n",
    "\n",
    "3の倍数ならFizzを出力して5の倍数ならBuzz<br>\n",
    "どっちもの倍数ならBuzzFizzを出力する\n",
    "\n"
   ]
  },
  {
   "cell_type": "code",
   "execution_count": 3,
   "metadata": {},
   "outputs": [
    {
     "name": "stdout",
     "output_type": "stream",
     "text": [
      "1\n",
      "2\n",
      "Fizz\n",
      "4\n",
      "Buzz\n",
      "Fizz\n",
      "7\n",
      "8\n",
      "Fizz\n",
      "Buzz\n",
      "11\n",
      "Fizz\n",
      "13\n",
      "14\n",
      "FizzBuzz\n"
     ]
    }
   ],
   "source": [
    "def fizzbuzz(n):\n",
    "    for i in range(1,n+1):\n",
    "        if i % 3==0 and i % 5 ==0:\n",
    "            print('FizzBuzz')\n",
    "        elif i%3==0:\n",
    "            print('Fizz')\n",
    "        elif i%5==0:\n",
    "            print('Buzz')\n",
    "        else:\n",
    "            print(i)\n",
    "\n",
    "fizzbuzz(15)"
   ]
  },
  {
   "cell_type": "markdown",
   "metadata": {},
   "source": [
    "- 最大公約数を求めるアルゴリズム\n",
    "\n",
    "約数を一個一個割っていって確かめる\n",
    "小さい方の値を決めて、その値まで共通してあまりが0になる数字を探す"
   ]
  },
  {
   "cell_type": "code",
   "execution_count": 6,
   "metadata": {},
   "outputs": [
    {
     "data": {
      "text/plain": [
       "4"
      ]
     },
     "execution_count": 6,
     "metadata": {},
     "output_type": "execute_result"
    }
   ],
   "source": [
    "def gcf(i1,i2):\n",
    "    gcf_value=None\n",
    "    if i1>i2:\n",
    "        smaller=i2\n",
    "    else:\n",
    "        smaller=i1\n",
    "    \n",
    "    for divisor in range(1,smaller+1):\n",
    "        if (i1 % divisor==0) and (i2 % divisor==0):\n",
    "            gcf_value=divisor\n",
    "    \n",
    "    return gcf_value\n",
    "\n",
    "gcf(20,12)"
   ]
  },
  {
   "cell_type": "markdown",
   "metadata": {},
   "source": [
    "- 負の数字を入れないように設定する"
   ]
  },
  {
   "cell_type": "code",
   "execution_count": 9,
   "metadata": {},
   "outputs": [
    {
     "ename": "ValueError",
     "evalue": "負の数字が入っています",
     "output_type": "error",
     "traceback": [
      "\u001b[0;31m---------------------------------------------------------------------------\u001b[0m",
      "\u001b[0;31mValueError\u001b[0m                                Traceback (most recent call last)",
      "\u001b[1;32m/home/bdr/algorithm/number.ipynb セル 7\u001b[0m line \u001b[0;36m1\n\u001b[1;32m     <a href='vscode-notebook-cell:/home/bdr/algorithm/number.ipynb#X13sZmlsZQ%3D%3D?line=11'>12</a>\u001b[0m             gcf_value\u001b[39m=\u001b[39mdivisor\n\u001b[1;32m     <a href='vscode-notebook-cell:/home/bdr/algorithm/number.ipynb#X13sZmlsZQ%3D%3D?line=13'>14</a>\u001b[0m     \u001b[39mreturn\u001b[39;00m gcf_value\n\u001b[0;32m---> <a href='vscode-notebook-cell:/home/bdr/algorithm/number.ipynb#X13sZmlsZQ%3D%3D?line=15'>16</a>\u001b[0m gcf(\u001b[39m-\u001b[39;49m\u001b[39m20\u001b[39;49m,\u001b[39m12\u001b[39;49m)\n",
      "\u001b[1;32m/home/bdr/algorithm/number.ipynb セル 7\u001b[0m line \u001b[0;36m3\n\u001b[1;32m      <a href='vscode-notebook-cell:/home/bdr/algorithm/number.ipynb#X13sZmlsZQ%3D%3D?line=0'>1</a>\u001b[0m \u001b[39mdef\u001b[39;00m \u001b[39mgcf\u001b[39m(i1,i2):\n\u001b[1;32m      <a href='vscode-notebook-cell:/home/bdr/algorithm/number.ipynb#X13sZmlsZQ%3D%3D?line=1'>2</a>\u001b[0m     \u001b[39mif\u001b[39;00m i1 \u001b[39m<\u001b[39m \u001b[39m0\u001b[39m \u001b[39mor\u001b[39;00m i2 \u001b[39m<\u001b[39m\u001b[39m0\u001b[39m:\n\u001b[0;32m----> <a href='vscode-notebook-cell:/home/bdr/algorithm/number.ipynb#X13sZmlsZQ%3D%3D?line=2'>3</a>\u001b[0m         \u001b[39mraise\u001b[39;00m \u001b[39mValueError\u001b[39;00m(\u001b[39m'\u001b[39m\u001b[39m負の数字が入っています\u001b[39m\u001b[39m'\u001b[39m)\n\u001b[1;32m      <a href='vscode-notebook-cell:/home/bdr/algorithm/number.ipynb#X13sZmlsZQ%3D%3D?line=3'>4</a>\u001b[0m     gcf_value\u001b[39m=\u001b[39m\u001b[39mNone\u001b[39;00m\n\u001b[1;32m      <a href='vscode-notebook-cell:/home/bdr/algorithm/number.ipynb#X13sZmlsZQ%3D%3D?line=4'>5</a>\u001b[0m     \u001b[39mif\u001b[39;00m i1\u001b[39m>\u001b[39mi2:\n",
      "\u001b[0;31mValueError\u001b[0m: 負の数字が入っています"
     ]
    }
   ],
   "source": [
    "def gcf(i1,i2):\n",
    "    if i1 < 0 or i2 <0:\n",
    "        raise ValueError('負の数字が入っています')\n",
    "    gcf_value=None\n",
    "    if i1>i2:\n",
    "        smaller=i2\n",
    "    else:\n",
    "        smaller=i1\n",
    "    \n",
    "    for divisor in range(1,smaller+1):\n",
    "        if (i1 % divisor==0) and (i2 % divisor==0):\n",
    "            gcf_value=divisor\n",
    "    \n",
    "    return gcf_value\n",
    "\n",
    "gcf(-20,12)"
   ]
  },
  {
   "cell_type": "markdown",
   "metadata": {},
   "source": [
    "- 最大公約数をユークリッドで求める<br>\n",
    "\n",
    "2つの数の大きい方の値xをもう一つの小さい方の値yで割る。<br>\n",
    "その余った余りを割る数としてもう一度割って、余りが0になるまで続ける。\n",
    "\n",
    "以下のコードは、yが0ではないときに実行を繰り返す。"
   ]
  },
  {
   "cell_type": "code",
   "execution_count": 10,
   "metadata": {},
   "outputs": [
    {
     "data": {
      "text/plain": [
       "4"
      ]
     },
     "execution_count": 10,
     "metadata": {},
     "output_type": "execute_result"
    }
   ],
   "source": [
    "def gcf(x,y):\n",
    "    if y==0:\n",
    "        (x,y)=(y,x)\n",
    "    while y!=0:\n",
    "        (x,y)=(y,x%y)\n",
    "    return x\n",
    "\n",
    "gcf(20,12)"
   ]
  },
  {
   "cell_type": "markdown",
   "metadata": {},
   "source": [
    "- 素数を判定する関数"
   ]
  },
  {
   "cell_type": "code",
   "execution_count": 11,
   "metadata": {},
   "outputs": [
    {
     "data": {
      "text/plain": [
       "True"
      ]
     },
     "execution_count": 11,
     "metadata": {},
     "output_type": "execute_result"
    }
   ],
   "source": [
    "def is_prime(n):\n",
    "    for i in range(2,n):\n",
    "        if n%i ==0:\n",
    "            return False\n",
    "    return True\n",
    "\n",
    "is_prime(17)"
   ]
  },
  {
   "cell_type": "markdown",
   "metadata": {},
   "source": [
    "- 素数を判定するアルゴリズムでより高速なもの\n",
    "\n",
    "a*b=n の時、aかbはnの平方根と同じかそれ以下の値になる"
   ]
  },
  {
   "cell_type": "code",
   "execution_count": 12,
   "metadata": {},
   "outputs": [
    {
     "data": {
      "text/plain": [
       "True"
      ]
     },
     "execution_count": 12,
     "metadata": {},
     "output_type": "execute_result"
    }
   ],
   "source": [
    "import math \n",
    "\n",
    "def is_prime2(n):\n",
    "    for i in range(2,int(math.sqrt(n)+1)):\n",
    "        if n % i==0:\n",
    "            return False\n",
    "    return True\n",
    "\n",
    "is_prime2(13)"
   ]
  },
  {
   "cell_type": "code",
   "execution_count": null,
   "metadata": {},
   "outputs": [],
   "source": []
  }
 ],
 "metadata": {
  "kernelspec": {
   "display_name": "deep",
   "language": "python",
   "name": "python3"
  },
  "language_info": {
   "codemirror_mode": {
    "name": "ipython",
    "version": 3
   },
   "file_extension": ".py",
   "mimetype": "text/x-python",
   "name": "python",
   "nbconvert_exporter": "python",
   "pygments_lexer": "ipython3",
   "version": "3.11.4"
  }
 },
 "nbformat": 4,
 "nbformat_minor": 2
}
