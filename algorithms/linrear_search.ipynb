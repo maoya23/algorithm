{
 "cells": [
  {
   "cell_type": "markdown",
   "metadata": {},
   "source": [
    "線形探索アルゴリズムについて実装する\n",
    "\n",
    "- 線形探索のオーダーはO(n) 10のリストがあれば10ステップかかる\n",
    "- ソート済みデータでない場合これを使う"
   ]
  },
  {
   "cell_type": "code",
   "execution_count": 7,
   "metadata": {},
   "outputs": [],
   "source": [
    "import time"
   ]
  },
  {
   "cell_type": "code",
   "execution_count": 19,
   "metadata": {},
   "outputs": [
    {
     "name": "stdout",
     "output_type": "stream",
     "text": [
      "True\n",
      "False\n",
      "0.00029206275939941406\n",
      "True\n"
     ]
    }
   ],
   "source": [
    "def linear_search(a_list,n):\n",
    "    for i in a_list:\n",
    "        if i==n:\n",
    "            return True\n",
    "    return False\n",
    "\n",
    "start1=time.time()\n",
    "a_list=[1,8,4,32,64,532,6436,64346420,6453649]\n",
    "print(linear_search(a_list,64))\n",
    "print(linear_search(a_list,9999))\n",
    "end1=time.time()\n",
    "print(end1-start1)\n",
    "\n",
    "#デフォルトで in に線形探索がある\n",
    "print(64 in a_list)\n"
   ]
  },
  {
   "cell_type": "markdown",
   "metadata": {},
   "source": [
    "二分探索アルゴリズムの実装\n",
    "- ソート済みのデータならこれの方が実行速度が早い\n",
    "- その都度中央値を探して、目的の値がその中央値よりも大きいか小さいかを判断して片側で探索する"
   ]
  },
  {
   "cell_type": "code",
   "execution_count": 24,
   "metadata": {},
   "outputs": [
    {
     "name": "stdout",
     "output_type": "stream",
     "text": [
      "True\n",
      "False\n",
      "0.0002846717834472656\n",
      "4\n",
      "6\n"
     ]
    }
   ],
   "source": [
    "def binary_search(a_list,n):\n",
    "    first=0\n",
    "    last=len(a_list)-1\n",
    "    while last >= first:\n",
    "        mid =(first+last)//2\n",
    "        if a_list[mid]==n:\n",
    "            return True\n",
    "        else:\n",
    "            if n < a_list[mid]:\n",
    "                last=mid-1\n",
    "            else:\n",
    "                first =mid+1\n",
    "    return False\n",
    "\n",
    "start2=time.time()\n",
    "a_list=[1,8,4,32,64,532,6436,64346420,6453649]\n",
    "print(linear_search(a_list,64))\n",
    "print(linear_search(a_list,9999))\n",
    "end2=time.time()\n",
    "print(end2-start2)\n",
    "\n",
    "#デフォルトのライブラリがある　インデックスの番号を返す\n",
    "from bisect import bisect_left\n",
    "print(bisect_left(a_list,64))\n",
    "\n",
    "#なかった場合あるはずの場所を返す\n",
    "print(bisect_left(a_list,999))\n"
   ]
  },
  {
   "cell_type": "code",
   "execution_count": null,
   "metadata": {},
   "outputs": [],
   "source": []
  }
 ],
 "metadata": {
  "kernelspec": {
   "display_name": "deep",
   "language": "python",
   "name": "python3"
  },
  "language_info": {
   "codemirror_mode": {
    "name": "ipython",
    "version": 3
   },
   "file_extension": ".py",
   "mimetype": "text/x-python",
   "name": "python",
   "nbconvert_exporter": "python",
   "pygments_lexer": "ipython3",
   "version": "3.11.4"
  },
  "orig_nbformat": 4
 },
 "nbformat": 4,
 "nbformat_minor": 2
}
