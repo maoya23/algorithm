{
 "cells": [
  {
   "cell_type": "code",
   "execution_count": 21,
   "metadata": {},
   "outputs": [],
   "source": [
    "import time\n",
    "\n",
    "a_list=[2,54,34,22,52,15,65,89,47]"
   ]
  },
  {
   "cell_type": "markdown",
   "metadata": {},
   "source": [
    "- for i in range(loop_size)があるのは、リストを入れ替える作業をリストの長さだけ繰り返すため。<br>\n",
    "そうしないと最大の値がリストの最後に移動して終わる。<br>\n",
    "- loop_size-iをしているのは効率を良くするため。"
   ]
  },
  {
   "cell_type": "code",
   "execution_count": 22,
   "metadata": {},
   "outputs": [
    {
     "data": {
      "text/plain": [
       "[2, 15, 22, 34, 47, 52, 54, 65, 89]"
      ]
     },
     "execution_count": 22,
     "metadata": {},
     "output_type": "execute_result"
    }
   ],
   "source": [
    "def bubble_sort(a_list):\n",
    "    loop_size=len(a_list)-1\n",
    "    for i in range(loop_size):\n",
    "        for j in range(loop_size-i):\n",
    "            if a_list[j] > a_list[j+1]:\n",
    "                a_list[j],a_list[j+1] = a_list[j+1],a_list[j]\n",
    "    return a_list\n",
    "\n",
    "bubble_sort(a_list)"
   ]
  },
  {
   "cell_type": "code",
   "execution_count": 23,
   "metadata": {},
   "outputs": [
    {
     "data": {
      "text/plain": [
       "[2, 15, 22, 34, 47, 52, 54, 65, 89]"
      ]
     },
     "execution_count": 23,
     "metadata": {},
     "output_type": "execute_result"
    }
   ],
   "source": [
    "def bubble_sort(a_list):\n",
    "    loop_size=len(a_list)-1\n",
    "\n",
    "    for j in range(loop_size):\n",
    "        if a_list[j] > a_list[j+1]:\n",
    "            a_list[j],a_list[j+1] = a_list[j+1],a_list[j]\n",
    "    return a_list\n",
    "\n",
    "bubble_sort(a_list)\n"
   ]
  },
  {
   "cell_type": "markdown",
   "metadata": {},
   "source": [
    "挿入ソートの実装\n",
    "- トランプを並び替えるみたいに、数字のリストを２つに分けて、分けたものうち整列されていないものを並べ替えるイメージ\n",
    "\n",
    "- valueをa_list[i]で固定してi>0 and a_list[i-1]>vauleのときに実行する。\n",
    "\n",
    "- 入れ替えたあと最後に固定していたvalueをもとのところに戻す"
   ]
  },
  {
   "cell_type": "code",
   "execution_count": 24,
   "metadata": {},
   "outputs": [
    {
     "data": {
      "text/plain": [
       "[2, 15, 22, 34, 47, 52, 54, 65, 89]"
      ]
     },
     "execution_count": 24,
     "metadata": {},
     "output_type": "execute_result"
    }
   ],
   "source": [
    "def insertion_sort(a_list):\n",
    "    for i in range(1,len(a_list)):\n",
    "        value = a_list[i]\n",
    "        while i > 0 and a_list[i-1] > value:\n",
    "            a_list[i] = a_list[i-1]\n",
    "            i = i-1\n",
    "        a_list[i]=value\n",
    "    return a_list\n",
    "\n",
    "insertion_sort(a_list)\n"
   ]
  },
  {
   "cell_type": "markdown",
   "metadata": {},
   "source": [
    "・マージソートの実装\n",
    "\n",
    "- 要素が一つになるまでリストを分けて、正しい順番になるように細分化したリストを統合するアルゴリズム\n"
   ]
  },
  {
   "cell_type": "code",
   "execution_count": 25,
   "metadata": {},
   "outputs": [
    {
     "data": {
      "text/plain": [
       "[2, 15, 22, 34, 47, 52, 54, 65, 89]"
      ]
     },
     "execution_count": 25,
     "metadata": {},
     "output_type": "execute_result"
    }
   ],
   "source": [
    "def merge_sort(a_list):\n",
    "    if len(a_list)>1:\n",
    "        mid=len(a_list)//2\n",
    "        left=a_list[:mid]\n",
    "        right=a_list[mid:]\n",
    "        merge_sort(left)\n",
    "        merge_sort(right)\n",
    "\n",
    "        left_i=0\n",
    "        right_i=0\n",
    "        alist_i=0\n",
    "        while(left_i<len(left) and right_i < len(right)):\n",
    "            if left[left_i] <= right[right_i]:\n",
    "                a_list[alist_i]=left[left_i]\n",
    "                left_i += 1\n",
    "            else:\n",
    "                a_list[alist_i]=right[right_i]\n",
    "                right_i += 1\n",
    "            alist_i +=1\n",
    "        \n",
    "        while left_i < len(left):\n",
    "            a_list[alist_i]=left[left_i]\n",
    "            left_i +=1\n",
    "            alist_i +=1\n",
    "\n",
    "        while right_i < len(right):\n",
    "            a_list[alist_i] = right[right_i]\n",
    "            right_i += 1\n",
    "            alist_i += 1\n",
    "    return a_list\n",
    "\n",
    "merge_sort(a_list)"
   ]
  },
  {
   "cell_type": "code",
   "execution_count": null,
   "metadata": {},
   "outputs": [],
   "source": []
  }
 ],
 "metadata": {
  "kernelspec": {
   "display_name": "deep",
   "language": "python",
   "name": "python3"
  },
  "language_info": {
   "codemirror_mode": {
    "name": "ipython",
    "version": 3
   },
   "file_extension": ".py",
   "mimetype": "text/x-python",
   "name": "python",
   "nbconvert_exporter": "python",
   "pygments_lexer": "ipython3",
   "version": "3.11.4"
  },
  "orig_nbformat": 4
 },
 "nbformat": 4,
 "nbformat_minor": 2
}
