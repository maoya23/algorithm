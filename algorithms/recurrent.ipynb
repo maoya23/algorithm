{
 "cells": [
  {
   "cell_type": "markdown",
   "metadata": {},
   "source": [
    "再帰のアルゴリズムの実装\n",
    "\n",
    "- 階乗を実現する関数を定義する\n",
    "- コードは短くて済むが、メモリーを多く食う欠点あり"
   ]
  },
  {
   "cell_type": "code",
   "execution_count": 2,
   "metadata": {},
   "outputs": [
    {
     "data": {
      "text/plain": [
       "120"
      ]
     },
     "execution_count": 2,
     "metadata": {},
     "output_type": "execute_result"
    }
   ],
   "source": [
    "def factorial(n):\n",
    "    product=1\n",
    "    while n>0:\n",
    "        product*=n\n",
    "        n=n-1\n",
    "    return product\n",
    "\n",
    "factorial(5)"
   ]
  },
  {
   "cell_type": "markdown",
   "metadata": {},
   "source": [
    "再帰の実装\n",
    "factorial(n)*factorial(n-1)が繋がっていって\n",
    "最終的にnが1になって値が確定する。<br>\n",
    "今度は逆順に計算していって最終的な値を決める\n",
    "途中factorial(n-1)の値は確定していないが一時的に値を保存する。<br><br>\n",
    "保存する先をスタックという"
   ]
  },
  {
   "cell_type": "code",
   "execution_count": 3,
   "metadata": {},
   "outputs": [
    {
     "data": {
      "text/plain": [
       "120"
      ]
     },
     "execution_count": 3,
     "metadata": {},
     "output_type": "execute_result"
    }
   ],
   "source": [
    "def factorial2(n):\n",
    "    if n==0:\n",
    "        return 1\n",
    "    return n*factorial2(n-1)\n",
    "\n",
    "factorial2(5)"
   ]
  },
  {
   "cell_type": "code",
   "execution_count": null,
   "metadata": {},
   "outputs": [],
   "source": [
    "import numpy as np\n",
    "\n",
    "input_line = input()\n",
    "list=[int(c) for c in input_line.replace(' ','')]\n",
    "\n",
    "\n",
    "x=[]\n",
    "for i in range(list[0]):\n",
    "    list2=[int(c) for c in input().replace(' ','')]\n",
    "    x.append(list2)\n",
    "\n",
    "y=[]\n",
    "for i in range(list[1]):\n",
    "    for j in range(list[2]):\n",
    "        y.append([i,j])\n",
    "\n",
    "search=[c for c in y if c not in x]\n",
    "\n",
    "search=np.array(search)\n",
    "\n",
    "\n",
    "target=[list[3],list[4]]\n",
    "target=np.array(target)\n",
    "\n",
    "value=[]\n",
    "for i in range(list[1]*list[2]-list[0]):\n",
    "    norm=np.linalg.norm(target-search[i],ord=1)\n",
    "    value.append(norm)\n",
    "    \n",
    "\n",
    "value=value\n",
    "\n",
    "\n",
    "\n",
    "min_valiue=min(value)\n",
    "min_index=[i for i , x in enumerate(value) if x==min_valiue]\n",
    "\n",
    "\n",
    "\n",
    "for i in range(len(min_index)):\n",
    "    \n",
    "    print(*search[min_index[i]])\n",
    "\n"
   ]
  }
 ],
 "metadata": {
  "kernelspec": {
   "display_name": "deep",
   "language": "python",
   "name": "python3"
  },
  "language_info": {
   "codemirror_mode": {
    "name": "ipython",
    "version": 3
   },
   "file_extension": ".py",
   "mimetype": "text/x-python",
   "name": "python",
   "nbconvert_exporter": "python",
   "pygments_lexer": "ipython3",
   "version": "3.11.4"
  },
  "orig_nbformat": 4
 },
 "nbformat": 4,
 "nbformat_minor": 2
}
