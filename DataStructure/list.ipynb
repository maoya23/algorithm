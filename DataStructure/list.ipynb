{
 "cells": [
  {
   "cell_type": "markdown",
   "metadata": {},
   "source": [
    "#### 1. データ構造のうち、リストについてのコード\n",
    "\n",
    "- 均質なデータ：一種類のデータ型だけを格納できるデータ構造\n",
    "- 静的なデータ：あとからサイズを変更できないデータ構造<br>\n",
    "\n",
    "C言語のリストは静的で均質なデータ構造で、予め割り当てたメモリーサイズで計算\n",
    "Pythonは混合可変長配列\n",
    "\n",
    "配列の初めにベースアドレスを追加して、それに＋してインデックスと要素一つに必要なメモリーサイズを割り当てる\n",
    "\n",
    "リストに要素を追加するときは、C言語の場合、追加した配列のデータを確保して、古い配列をそれにコピーして、前の配列データを開放する。"
   ]
  },
  {
   "cell_type": "code",
   "execution_count": 5,
   "metadata": {},
   "outputs": [
    {
     "data": {
      "text/plain": [
       "[8, 4, 32, 21, 5, 3, 0, 0]"
      ]
     },
     "execution_count": 5,
     "metadata": {},
     "output_type": "execute_result"
    }
   ],
   "source": [
    "# リストにあるすべてのゼロを末尾に移動し、残りの数字は入れ替えないアルゴリズム\n",
    "\n",
    "def move_zero(a_list):\n",
    "    zero_index=0\n",
    "    for index ,n in enumerate(a_list):\n",
    "        if n!=0:\n",
    "            a_list[zero_index]=n\n",
    "            if zero_index != index:\n",
    "                a_list[index]=0\n",
    "            zero_index +=1\n",
    "    return a_list\n",
    "\n",
    "a_list=[8,4,0,32,21,5,3,0]\n",
    "move_zero(a_list)\n",
    "\n"
   ]
  },
  {
   "cell_type": "markdown",
   "metadata": {},
   "source": [
    "nが0でない時、a_listのインデックスの値をnで置き換える。zero_indexとindexの値が異なる時、何かが間に入ったのでそのindexに0を追加する。"
   ]
  },
  {
   "cell_type": "markdown",
   "metadata": {},
   "source": [
    "#### 2. 2つのリストを統合する\n",
    "\n",
    "movie_listとその評価のraring_listを統合したリストを作る\n",
    "統合したものはタプルで保存"
   ]
  },
  {
   "cell_type": "code",
   "execution_count": 6,
   "metadata": {},
   "outputs": [
    {
     "data": {
      "text/plain": [
       "[('Harry Potter', 10),\n",
       " ('Mission Impossible', 8),\n",
       " ('Transformer', 6),\n",
       " ('Transpoter', 9)]"
      ]
     },
     "execution_count": 6,
     "metadata": {},
     "output_type": "execute_result"
    }
   ],
   "source": [
    "movie_list=['Harry Potter','Mission Impossible','Transformer','Transpoter']\n",
    "rating_list=[10,8,6,9]\n",
    "\n",
    "list(zip(movie_list,rating_list))"
   ]
  },
  {
   "cell_type": "markdown",
   "metadata": {},
   "source": [
    "#### 3. リスト内の重複を見つける\n",
    "\n",
    "- set関数を使う。setは重複する値を持てないデータ型。重複する要素は無視される"
   ]
  },
  {
   "cell_type": "code",
   "execution_count": null,
   "metadata": {},
   "outputs": [],
   "source": []
  }
 ],
 "metadata": {
  "kernelspec": {
   "display_name": "deep",
   "language": "python",
   "name": "python3"
  },
  "language_info": {
   "codemirror_mode": {
    "name": "ipython",
    "version": 3
   },
   "file_extension": ".py",
   "mimetype": "text/x-python",
   "name": "python",
   "nbconvert_exporter": "python",
   "pygments_lexer": "ipython3",
   "version": "3.11.4"
  }
 },
 "nbformat": 4,
 "nbformat_minor": 2
}
