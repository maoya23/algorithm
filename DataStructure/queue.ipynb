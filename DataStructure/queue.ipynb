{
 "cells": [
  {
   "cell_type": "markdown",
   "metadata": {},
   "source": [
    "#### キューを連結リストで実装\n",
    "\n",
    "- 後ろから要素を追加し、前から要素を消去するデータ構造\n",
    "1. エンキュー：キューに要素を追加する操作\n",
    "1. デキュー：要素を消去する操作\n",
    "- 使用するシーン：Netflixとかで動画を見るときは<br>初めに動画をキューに貯めることで<br>\n",
    "通信がなくても一定期間動画を見れるようにする"
   ]
  },
  {
   "cell_type": "code",
   "execution_count": 4,
   "metadata": {},
   "outputs": [],
   "source": [
    "class Node:\n",
    "    def __init__(self,data,next=None):\n",
    "        self.data=data\n",
    "        self.next=next\n",
    "\n",
    "class Queue:\n",
    "    #キューのサイズをsize._sizeで管理する\n",
    "    def __init__(self):\n",
    "        self.front=None\n",
    "        self.rear=None\n",
    "        self._size=0\n",
    "\n",
    "    #キューに新しい要素を追加しているので_size+1をする\n",
    "    #キュー内部の連結リストに要素を保存するために、新しいノードを作る\n",
    "    #初めはキューに要素が一つしかないので、作ったnodeをrearにもfrontにも指定する\n",
    "    #そうでない場合、rear.nextに要素を追加したあとにrear（末尾）に要素を追加する\n",
    "    def enqueue(self,item):\n",
    "        self._size +=1\n",
    "        node=Node(item)\n",
    "        if self.rear is None:\n",
    "            self.front=node\n",
    "            self.rear=node\n",
    "        else:\n",
    "            self.rear.next=node\n",
    "            self.rear=node\n",
    "\n",
    "    #self.frontをself.front.nextに代入することで連結リストからキューの先頭を消す\n",
    "    #tempに一時的にself.frontを代入することであとからアクセスできるようにする\n",
    "    def dequeue(self):\n",
    "        if self.front is None:\n",
    "            raise IndentationError('pop from empty queue')\n",
    "        self._size -= 1\n",
    "        temp=self.front\n",
    "        self.front=self.front.next\n",
    "        if self.front is None:\n",
    "            self.rear=None\n",
    "        return temp.data\n",
    "\n",
    "    def size(self):\n",
    "        return self._size"
   ]
  },
  {
   "cell_type": "code",
   "execution_count": 5,
   "metadata": {},
   "outputs": [
    {
     "name": "stdout",
     "output_type": "stream",
     "text": [
      "3\n",
      "1\n",
      "2\n",
      "3\n"
     ]
    }
   ],
   "source": [
    "queue=Queue()\n",
    "queue.enqueue(1)\n",
    "queue.enqueue(2)\n",
    "queue.enqueue(3)\n",
    "print(queue.size())\n",
    "\n",
    "for i in range(3):\n",
    "    print(queue.dequeue())\n"
   ]
  },
  {
   "cell_type": "markdown",
   "metadata": {},
   "source": [
    "#### 組み込み関数としてのQueue"
   ]
  },
  {
   "cell_type": "code",
   "execution_count": 6,
   "metadata": {},
   "outputs": [
    {
     "name": "stdout",
     "output_type": "stream",
     "text": [
      "3\n",
      "a\n",
      "b\n",
      "c\n"
     ]
    }
   ],
   "source": [
    "from queue import Queue\n",
    "\n",
    "q=Queue()\n",
    "q.put('a')\n",
    "q.put('b')\n",
    "q.put('c')\n",
    "print(q.qsize())\n",
    "\n",
    "for i in range(3):\n",
    "    print(q.get())"
   ]
  },
  {
   "cell_type": "markdown",
   "metadata": {},
   "source": [
    "#### 2つのスタックを使ったキューの作成\n"
   ]
  },
  {
   "cell_type": "code",
   "execution_count": 7,
   "metadata": {},
   "outputs": [],
   "source": [
    "class Queue:\n",
    "    def __init__(self):\n",
    "        self.s1=[]\n",
    "        self.s2=[]\n",
    "\n",
    "    def enqueue(self,item):\n",
    "        while len(self.s1)!=0:\n",
    "            self.s2.append(self.s1.pop())\n",
    "        self.s1.append(item)\n",
    "        while len(self.s2) !=0:\n",
    "            self.s1.append(self.s2.pop())\n",
    "\n",
    "    def dequeue(self):\n",
    "        if len(self.s1)==0:\n",
    "            raise Exception('Can`t pop from empty queue')\n",
    "        return self.s1.pop()"
   ]
  },
  {
   "cell_type": "code",
   "execution_count": null,
   "metadata": {},
   "outputs": [],
   "source": []
  }
 ],
 "metadata": {
  "kernelspec": {
   "display_name": "deep",
   "language": "python",
   "name": "python3"
  },
  "language_info": {
   "codemirror_mode": {
    "name": "ipython",
    "version": 3
   },
   "file_extension": ".py",
   "mimetype": "text/x-python",
   "name": "python",
   "nbconvert_exporter": "python",
   "pygments_lexer": "ipython3",
   "version": "3.11.4"
  }
 },
 "nbformat": 4,
 "nbformat_minor": 2
}
