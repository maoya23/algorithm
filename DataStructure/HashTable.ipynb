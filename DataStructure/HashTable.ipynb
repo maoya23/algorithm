{
 "cells": [
  {
   "cell_type": "markdown",
   "metadata": {},
   "source": [
    "#### ハッシュテーブル\n",
    "- 連想配列の一つ\n",
    "- キーバリューペアが格納されている線形のデータ構造でキーは一意\n",
    "- 重複したキーは存在できない\n",
    "- ハッシュ関数：キーを入力として受け取って配列のインデックスを返す\n",
    "- ハッシュ値：ハッシュ関数が生成する一意のインデックスのこと"
   ]
  },
  {
   "cell_type": "code",
   "execution_count": 12,
   "metadata": {},
   "outputs": [
    {
     "name": "stdout",
     "output_type": "stream",
     "text": [
      "Independence Year\n"
     ]
    }
   ],
   "source": [
    "#辞書を例として出す\n",
    "a_dict={}\n",
    "a_dict[1776]='Independence Year'\n",
    "\n",
    "print(a_dict[1776])"
   ]
  },
  {
   "cell_type": "code",
   "execution_count": 13,
   "metadata": {},
   "outputs": [
    {
     "name": "stdout",
     "output_type": "stream",
     "text": [
      "{'H': 1, 'e': 1, 'l': 2, 'o': 1}\n"
     ]
    }
   ],
   "source": [
    "#文字列の中の各文字の出現回数をカウントする\n",
    "\n",
    "#a_stringにcharがなかったらa_dictにcharを追加してキーを1にする。\n",
    "#charがある場合、キーに1を足す\n",
    "def count(a_string):\n",
    "    a_dict={}\n",
    "    for char in a_string:\n",
    "        if char in a_dict:\n",
    "            a_dict[char] +=1\n",
    "        else:\n",
    "            a_dict[char]=1\n",
    "    return a_dict\n",
    "\n",
    "print(count('Hello'))"
   ]
  },
  {
   "cell_type": "markdown",
   "metadata": {},
   "source": [
    "#### 2つの整数の和\n",
    "- リストの要素から二個を選んで要素の和が目標値になるように設定する"
   ]
  },
  {
   "cell_type": "code",
   "execution_count": 20,
   "metadata": {},
   "outputs": [
    {
     "name": "stdout",
     "output_type": "stream",
     "text": [
      "(2, 3)\n"
     ]
    }
   ],
   "source": [
    "#まずは良くない解法から\n",
    "#計算量O(n^2)\n",
    "def two_sum_brute(the_list,target):\n",
    "    for i in range(0,len(the_list)):\n",
    "        for j in range(i,len(the_list)):\n",
    "            if the_list[i]+the_list[j]==target:\n",
    "                return the_list[i],the_list[j]\n",
    "            \n",
    "list=[-1,2,3,4,7]\n",
    "print(two_sum_brute(the_list=list,target=5))"
   ]
  },
  {
   "cell_type": "code",
   "execution_count": 26,
   "metadata": {},
   "outputs": [
    {
     "name": "stdout",
     "output_type": "stream",
     "text": [
      "(2, 1)\n"
     ]
    }
   ],
   "source": [
    "#辞書を使ったいい解法\n",
    "\n",
    "def two_sum(a_list,target):\n",
    "    a_dict={}\n",
    "    for index,n in enumerate(a_list):\n",
    "        rem=target-n\n",
    "        if rem in a_dict:\n",
    "            return index,a_dict[rem]\n",
    "        else:\n",
    "            a_dict[n]=index\n",
    "\n",
    "list=[-1,2,3,4,7]\n",
    "print(two_sum(list,5))"
   ]
  },
  {
   "cell_type": "code",
   "execution_count": null,
   "metadata": {},
   "outputs": [],
   "source": []
  }
 ],
 "metadata": {
  "kernelspec": {
   "display_name": "deep",
   "language": "python",
   "name": "python3"
  },
  "language_info": {
   "codemirror_mode": {
    "name": "ipython",
    "version": 3
   },
   "file_extension": ".py",
   "mimetype": "text/x-python",
   "name": "python",
   "nbconvert_exporter": "python",
   "pygments_lexer": "ipython3",
   "version": "3.11.4"
  }
 },
 "nbformat": 4,
 "nbformat_minor": 2
}
