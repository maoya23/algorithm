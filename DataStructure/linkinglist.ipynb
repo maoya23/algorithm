{
 "cells": [
  {
   "cell_type": "markdown",
   "metadata": {},
   "source": [
    "#### 連結リスト\n",
    "\n",
    "- 連結リスト：リスト抽象データ型\n",
    "- 配列と同じように連結リストは要素の最後に追加したりできる\n",
    "- 要素は連結したノードで構成されていて、ノードのメモリアドレスは連結していない\n",
    "- 最初のノードをヘッドといい、各ノードが持つ次のノードの位置をポインタという"
   ]
  },
  {
   "cell_type": "code",
   "execution_count": 5,
   "metadata": {},
   "outputs": [],
   "source": [
    "class Node:\n",
    "    def __init__(self,data,next=None):\n",
    "        self.data=data #data\n",
    "        self.next=next #リストの次のnode\n",
    "\n",
    "#Nodeインスタンスはポインタの役割\n",
    "#このポインタは実際のデータが存在するアドレス\n",
    "#オブジェクトを変数に代入するとポインタを扱う"
   ]
  },
  {
   "cell_type": "markdown",
   "metadata": {},
   "source": [
    "- 連結リストのクラスを実装する。.appendメソッドでsppendする。\n",
    "- headがない場合新しいノードを作り、それがヘッドになる\n",
    "- 連結リストの最後のノードを見つけ、新しいノードを作成し<br>最新のノードの\n",
    "next変数に新しく作ったノードを設定する\n",
    "- __str__はパイソンの特殊メソッドで<br>\n",
    "これを定義するとオブジェクトを表示するときにこれを呼び出す\n"
   ]
  },
  {
   "cell_type": "code",
   "execution_count": 14,
   "metadata": {},
   "outputs": [
    {
     "name": "stdout",
     "output_type": "stream",
     "text": [
      "Tuesday\n",
      "Wednesday\n"
     ]
    }
   ],
   "source": [
    "class LinkedList:\n",
    "    def __init__(self):\n",
    "        self.head=None\n",
    "\n",
    "    def append(self,data):\n",
    "        if not self.head:\n",
    "            self.head=Node(data)\n",
    "            return\n",
    "        \n",
    "        current=self.head\n",
    "        while current.next:\n",
    "            current=current.next\n",
    "        current.next=Node(data)\n",
    "\n",
    "    def __str__(self):\n",
    "        data_list=[]\n",
    "        node=self.head\n",
    "        while node is not None:\n",
    "            data_list.append(node.data)\n",
    "            node=node.next\n",
    "        return '\\n'.join(data_list)\n",
    "\n",
    "#headをcurrentに指定して、dataがtargetとするとTrueにしてcurrentをnextにする\n",
    "    def search(self,target):\n",
    "        current=self.head\n",
    "        while current:\n",
    "            if current.data==target:\n",
    "                return True\n",
    "            else:\n",
    "                current=current.next\n",
    "        return False\n",
    "\n",
    "#headがtargetなら、次のノードをヘッドに指定する\n",
    "#現在のノードcurrentに直前のノードをpreviousに指定する\n",
    "#targetが見つかったらprevious.nextにcurrent.nextを代入してそのノードを消す\n",
    "#前のノードのポインタを変更して消去したいノードを指さないうようにする\n",
    "    def remove(self,target):\n",
    "        if self.head.data==target:\n",
    "            self.head=self.head.next\n",
    "            return\n",
    "        current=self.head\n",
    "        previous=None\n",
    "        while current:\n",
    "            if current.data==target:\n",
    "                previous.next=current.next\n",
    "            previous=current\n",
    "            current=current.next\n",
    "\n",
    "#現在のノードが前のノードを指すようにする\n",
    "\n",
    "    def reverse_list(self):\n",
    "        current=self.head\n",
    "        previous=None\n",
    "        while current:\n",
    "            next=current.next\n",
    "            current.next=previous\n",
    "            previous=current\n",
    "            current=next\n",
    "        self.head=previous\n",
    "\n",
    "    def detect_cycle(self):\n",
    "        slow=self.head\n",
    "        fast=self.head\n",
    "        while True:\n",
    "            try:\n",
    "                slow=slow.next\n",
    "                fast=fast.next.next\n",
    "                fast=fast.next.next\n",
    "                if slow is fast:\n",
    "                    return True\n",
    "            except:\n",
    "                return False\n"
   ]
  },
  {
   "cell_type": "code",
   "execution_count": 15,
   "metadata": {},
   "outputs": [
    {
     "name": "stdout",
     "output_type": "stream",
     "text": [
      "Tuesday\n",
      "Wednesday\n"
     ]
    }
   ],
   "source": [
    "\n",
    "a_list=LinkedList()\n",
    "a_list.append('Tuesday')\n",
    "a_list.append('Wednesday')\n",
    "\n",
    "print(a_list)"
   ]
  },
  {
   "cell_type": "code",
   "execution_count": 25,
   "metadata": {},
   "outputs": [
    {
     "name": "stdout",
     "output_type": "stream",
     "text": [
      "8 21 11 20 25 28 24 10 26 22 2 26 10 7 18 23 30 15 28 25 True\n"
     ]
    }
   ],
   "source": [
    "import random\n",
    "\n",
    "a_list=LinkedList()\n",
    "\n",
    "for i in range(0,20):\n",
    "    j=random.randint(1,30)\n",
    "    a_list.append(j)\n",
    "    print(j,end=' ')\n",
    "\n",
    "print(a_list.search(10))"
   ]
  },
  {
   "cell_type": "markdown",
   "metadata": {},
   "source": [
    "- デフォルトのデータ構造がある(deque)\n",
    "- 内部で連結リスト構造を扱っている"
   ]
  },
  {
   "cell_type": "code",
   "execution_count": 13,
   "metadata": {},
   "outputs": [
    {
     "name": "stdout",
     "output_type": "stream",
     "text": [
      "Harry\n",
      "Potter\n"
     ]
    }
   ],
   "source": [
    "from collections import deque\n",
    "\n",
    "d=deque()\n",
    "d.append('Harry')\n",
    "d.append('Potter')\n",
    "\n",
    "for item in d:\n",
    "    print(item)"
   ]
  },
  {
   "cell_type": "code",
   "execution_count": null,
   "metadata": {},
   "outputs": [],
   "source": []
  }
 ],
 "metadata": {
  "kernelspec": {
   "display_name": "deep",
   "language": "python",
   "name": "python3"
  },
  "language_info": {
   "codemirror_mode": {
    "name": "ipython",
    "version": 3
   },
   "file_extension": ".py",
   "mimetype": "text/x-python",
   "name": "python",
   "nbconvert_exporter": "python",
   "pygments_lexer": "ipython3",
   "version": "3.11.4"
  }
 },
 "nbformat": 4,
 "nbformat_minor": 2
}
