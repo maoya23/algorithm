{
 "cells": [
  {
   "cell_type": "markdown",
   "metadata": {},
   "source": [
    "#### 連結リスト\n",
    "\n",
    "- 連結リスト：リスト抽象データ型\n",
    "- 配列と同じように連結リストは要素の最後に追加したりできる\n",
    "- 要素は連結したノードで構成されていて、ノードのメモリアドレスは連結していない\n",
    "- 最初のノードをヘッドといい、各ノードが持つ次のノードの位置をポインタという"
   ]
  },
  {
   "cell_type": "code",
   "execution_count": 5,
   "metadata": {},
   "outputs": [],
   "source": [
    "class Node:\n",
    "    def __init__(self,data,next=None):\n",
    "        self.data=data #data\n",
    "        self.next=next #リストの次のnode\n",
    "\n",
    "#Nodeインスタンスはポインタの役割\n",
    "#このポインタは実際のデータが存在するアドレス\n",
    "#オブジェクトを変数に代入するとポインタを扱う"
   ]
  },
  {
   "cell_type": "markdown",
   "metadata": {},
   "source": [
    "- 連結リストのクラスを実装する。.appendメソッドでsppendする。\n",
    "- headがない場合新しいノードを作り、それがヘッドになる\n",
    "- 連結リストの最後のノードを見つけ、新しいノードを作成し<br>最新のノードの\n",
    "next変数に新しく作ったノードを設定する\n",
    "- __str__はパイソンの特殊メソッドで<br>\n",
    "これを定義するとオブジェクトを表示するときにこれを呼び出す\n"
   ]
  },
  {
   "cell_type": "code",
   "execution_count": 11,
   "metadata": {},
   "outputs": [
    {
     "name": "stdout",
     "output_type": "stream",
     "text": [
      "Tuesday\n",
      "Wednesday\n"
     ]
    }
   ],
   "source": [
    "class LinkedList:\n",
    "    def __init__(self):\n",
    "        self.head=None\n",
    "\n",
    "    def append(self,data):\n",
    "        if not self.head:\n",
    "            self.head=Node(data)\n",
    "            return\n",
    "        \n",
    "        current=self.head\n",
    "        while current.next:\n",
    "            current=current.next\n",
    "        current.next=Node(data)\n",
    "\n",
    "    def __str__(self):\n",
    "        data_list=[]\n",
    "        node=self.head\n",
    "        while node is not None:\n",
    "            data_list.append(node.data)\n",
    "            node=node.next\n",
    "        return '\\n'.join(data_list)\n",
    "\n",
    "a_list=LinkedList()\n",
    "a_list.append('Tuesday')\n",
    "a_list.append('Wednesday')\n",
    "\n",
    "print(a_list)\n",
    "    \n"
   ]
  },
  {
   "cell_type": "code",
   "execution_count": null,
   "metadata": {},
   "outputs": [],
   "source": []
  }
 ],
 "metadata": {
  "kernelspec": {
   "display_name": "deep",
   "language": "python",
   "name": "python3"
  },
  "language_info": {
   "codemirror_mode": {
    "name": "ipython",
    "version": 3
   },
   "file_extension": ".py",
   "mimetype": "text/x-python",
   "name": "python",
   "nbconvert_exporter": "python",
   "pygments_lexer": "ipython3",
   "version": "3.11.4"
  }
 },
 "nbformat": 4,
 "nbformat_minor": 2
}
