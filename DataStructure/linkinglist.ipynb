{
 "cells": [
  {
   "cell_type": "markdown",
   "metadata": {},
   "source": [
    "#### 連結リスト\n",
    "\n",
    "- 連結リスト：リスト抽象データ型\n",
    "- 配列と同じように連結リストは要素の最後に追加したりできる\n",
    "- 要素は連結したノードで構成されていて、ノードのメモリアドレスは連結していない\n",
    "- 最初のノードをヘッドといい、各ノードが持つ次のノードの位置をポインタという"
   ]
  },
  {
   "cell_type": "code",
   "execution_count": 5,
   "metadata": {},
   "outputs": [],
   "source": [
    "class Node:\n",
    "    def __init__(self,data,next=None):\n",
    "        self.data=data #data\n",
    "        self.next=next #リストの次のnode\n",
    "\n",
    "#Nodeインスタンスはポインタの役割\n",
    "#このポインタは実際のデータが存在するアドレス\n",
    "#オブジェクトを変数に代入するとポインタを扱う"
   ]
  },
  {
   "cell_type": "markdown",
   "metadata": {},
   "source": [
    "- 連結リストのクラスを実装する。.appendメソッドでsppendする。\n",
    "- headがない場合新しいノードを作り、それがヘッドになる\n",
    "- 連結リストの最後のノードを見つけ、新しいノードを作成し<br>最新のノードの\n",
    "next変数に新しく作ったノードを設定する\n",
    "- __str__はパイソンの特殊メソッドで<br>\n",
    "これを定義するとオブジェクトを表示するときにこれを呼び出す\n"
   ]
  },
  {
   "cell_type": "code",
   "execution_count": 42,
   "metadata": {},
   "outputs": [],
   "source": [
    "class LinkedList:\n",
    "    def __init__(self):\n",
    "        self.head=None\n",
    "\n",
    "    def append(self,data):\n",
    "        if not self.head:\n",
    "            self.head=Node(data)\n",
    "            return\n",
    "        \n",
    "        current=self.head\n",
    "        while current.next:\n",
    "            current=current.next\n",
    "        current.next=Node(data)\n",
    "\n",
    "    def __str__(self):\n",
    "        data_list=[]\n",
    "        node=self.head\n",
    "        while node is not None:\n",
    "            data_list.append(node.data)\n",
    "            node=node.next\n",
    "        return '\\n'.join(map(str, data_list)) \n",
    "\n",
    "#headをcurrentに指定して、dataがtargetとするとTrueにしてcurrentをnextにする\n",
    "    def search(self,target):\n",
    "        current=self.head\n",
    "        while current:\n",
    "            if current.data==target:\n",
    "                return True\n",
    "            else:\n",
    "                current=current.next\n",
    "        return False\n",
    "\n",
    "#headがtargetなら、次のノードをヘッドに指定する\n",
    "#現在のノードcurrentに直前のノードをpreviousに指定する\n",
    "#targetが見つかったらprevious.nextにcurrent.nextを代入してそのノードを消す\n",
    "#前のノードのポインタを変更して消去したいノードを指さないうようにする\n",
    "    def remove(self,target):\n",
    "        if self.head.data==target:\n",
    "            self.head=self.head.next\n",
    "            return\n",
    "        current=self.head\n",
    "        previous=None\n",
    "        while current:\n",
    "            if current.data==target:\n",
    "                previous.next=current.next\n",
    "            previous=current\n",
    "            current=current.next\n",
    "\n",
    "#現在のノードが前のノードを指すようにする\n",
    "#current.nextをpreviousに設定すればノードのポインタを逆転させたことになる\n",
    "    def reverse_list(self):\n",
    "        current=self.head\n",
    "        previous=None\n",
    "        while current:\n",
    "            next=current.next\n",
    "            current.next=previous\n",
    "            previous=current\n",
    "            current=next\n",
    "        self.head=previous\n",
    "\n",
    "#連結リストを2つの異なる速度で繰り返したときにslowがfastに追いつくと循環している\n",
    "#while Trueで無限ループを作って、slowとfastを次々に設定していく。被ったらTrueを返す\n",
    "    def detect_cycle(self):\n",
    "        slow=self.head\n",
    "        fast=self.head\n",
    "        while True:\n",
    "            try:\n",
    "                slow=slow.next\n",
    "                fast=fast.next.next\n",
    "                if slow is fast:\n",
    "                    return True\n",
    "            except:\n",
    "                return False\n"
   ]
  },
  {
   "cell_type": "code",
   "execution_count": 43,
   "metadata": {},
   "outputs": [
    {
     "name": "stdout",
     "output_type": "stream",
     "text": [
      "Tuesday\n",
      "Wednesday\n"
     ]
    }
   ],
   "source": [
    "\n",
    "a_list=LinkedList()\n",
    "a_list.append('Tuesday')\n",
    "a_list.append('Wednesday')\n",
    "\n",
    "print(a_list)"
   ]
  },
  {
   "cell_type": "code",
   "execution_count": 44,
   "metadata": {},
   "outputs": [
    {
     "name": "stdout",
     "output_type": "stream",
     "text": [
      "12 6 30 19 18 19 25 6 12 19 19 30 11 15 12 20 22 4 22 21 False\n"
     ]
    }
   ],
   "source": [
    "import random\n",
    "\n",
    "a_list=LinkedList()\n",
    "\n",
    "for i in range(0,20):\n",
    "    j=random.randint(1,30)\n",
    "    a_list.append(j)\n",
    "    print(j,end=' ')\n",
    "\n",
    "print(a_list.search(10))"
   ]
  },
  {
   "cell_type": "code",
   "execution_count": 45,
   "metadata": {},
   "outputs": [
    {
     "name": "stdout",
     "output_type": "stream",
     "text": [
      "1\n",
      "2\n",
      "3\n",
      "4\n",
      "5\n",
      "6\n",
      "7\n",
      "8\n",
      "9\n",
      "10\n",
      "11\n",
      "12\n",
      "14\n",
      "15\n",
      "16\n",
      "17\n",
      "18\n",
      "19\n",
      "20\n",
      "21\n",
      "22\n",
      "23\n",
      "24\n",
      "25\n",
      "26\n",
      "27\n",
      "28\n",
      "29\n"
     ]
    }
   ],
   "source": [
    "a_list=LinkedList()\n",
    "\n",
    "for i in range(1,30):\n",
    "    a_list.append(i)\n",
    "\n",
    "a_list.remove(13)\n",
    "\n",
    "print(a_list)"
   ]
  },
  {
   "cell_type": "markdown",
   "metadata": {},
   "source": [
    "- デフォルトのデータ構造がある(deque)\n",
    "- 内部で連結リスト構造を扱っている"
   ]
  },
  {
   "cell_type": "code",
   "execution_count": 13,
   "metadata": {},
   "outputs": [
    {
     "name": "stdout",
     "output_type": "stream",
     "text": [
      "Harry\n",
      "Potter\n"
     ]
    }
   ],
   "source": [
    "from collections import deque\n",
    "\n",
    "d=deque()\n",
    "d.append('Harry')\n",
    "d.append('Potter')\n",
    "\n",
    "for item in d:\n",
    "    print(item)"
   ]
  },
  {
   "cell_type": "code",
   "execution_count": null,
   "metadata": {},
   "outputs": [],
   "source": []
  }
 ],
 "metadata": {
  "kernelspec": {
   "display_name": "deep",
   "language": "python",
   "name": "python3"
  },
  "language_info": {
   "codemirror_mode": {
    "name": "ipython",
    "version": 3
   },
   "file_extension": ".py",
   "mimetype": "text/x-python",
   "name": "python",
   "nbconvert_exporter": "python",
   "pygments_lexer": "ipython3",
   "version": "3.11.4"
  }
 },
 "nbformat": 4,
 "nbformat_minor": 2
}
