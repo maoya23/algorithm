{
 "cells": [
  {
   "cell_type": "markdown",
   "metadata": {},
   "source": [
    "#### 隣接リストを実装する"
   ]
  },
  {
   "cell_type": "code",
   "execution_count": 1,
   "metadata": {},
   "outputs": [],
   "source": [
    "class Vertex:\n",
    "    def __init__(self,key):\n",
    "        self.key=key\n",
    "        self.connections={}\n",
    "\n",
    "    def add_adj(self,vertex,weight=0):\n",
    "        self.connections[vertex]=weight\n",
    "\n",
    "    def get_connections(self):\n",
    "        return self.connections.keys()\n",
    "\n",
    "    def get_weight(self,vertex):\n",
    "        return self.connections[vertex]"
   ]
  },
  {
   "cell_type": "code",
   "execution_count": 2,
   "metadata": {},
   "outputs": [],
   "source": [
    "class Graph:\n",
    "    def __init__(self):\n",
    "        self.vertex_dict={}\n",
    "    \n",
    "    def add_vertex(self,key):\n",
    "        new_vertex=Vertex(key)\n",
    "        self.vertex_dict[key]=new_vertex\n",
    "\n",
    "    def get_vertex(self,key):\n",
    "        if key in self.vertex_dict:\n",
    "            return self.vertex_dict[key]\n",
    "        return None\n",
    "    \n",
    "    def add_edge(self,f,t,weight=0):\n",
    "        if f not in self.vertex_dict:\n",
    "            self.add_vertex(f)\n",
    "        if t not in self.vertex_dict:\n",
    "            self.add_vertex(t)\n",
    "        self.vertex_dict[f].add_adj(self.vertex_dict[t],weight)"
   ]
  },
  {
   "cell_type": "code",
   "execution_count": null,
   "metadata": {},
   "outputs": [],
   "source": []
  }
 ],
 "metadata": {
  "kernelspec": {
   "display_name": "deep",
   "language": "python",
   "name": "python3"
  },
  "language_info": {
   "codemirror_mode": {
    "name": "ipython",
    "version": 3
   },
   "file_extension": ".py",
   "mimetype": "text/x-python",
   "name": "python",
   "nbconvert_exporter": "python",
   "pygments_lexer": "ipython3",
   "version": "3.10.11"
  }
 },
 "nbformat": 4,
 "nbformat_minor": 2
}
