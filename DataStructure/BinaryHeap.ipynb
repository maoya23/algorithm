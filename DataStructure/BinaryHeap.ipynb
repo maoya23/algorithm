{
 "cells": [
  {
   "cell_type": "markdown",
   "metadata": {},
   "source": [
    "#### 二分ヒープの実装\n",
    "\n",
    "- 各ノードがその値と優先値の二個のデータを管理する木構造\n",
    "- ヒープのノード値をキーという"
   ]
  },
  {
   "cell_type": "code",
   "execution_count": 3,
   "metadata": {},
   "outputs": [
    {
     "name": "stdout",
     "output_type": "stream",
     "text": [
      "['C', 'E', 'D', 'H', 'R', 'T', 'L']\n",
      "After poping\n",
      "['D', 'E', 'L', 'H', 'R', 'T']\n",
      "['D', 'E', 'L', 'H', 'R', 'T', 'z']\n"
     ]
    }
   ],
   "source": [
    "from heapq import heapify,heappop,heappush\n",
    "\n",
    "a_list=['R','C','T','H','E','D','L']\n",
    "heapify(a_list)\n",
    "print(a_list)\n",
    "\n",
    "heappop(a_list)\n",
    "print('After poping')\n",
    "print(a_list)\n",
    "\n",
    "heappush(a_list,'z')\n",
    "print(a_list)"
   ]
  },
  {
   "cell_type": "code",
   "execution_count": 4,
   "metadata": {},
   "outputs": [
    {
     "name": "stdout",
     "output_type": "stream",
     "text": [
      "19\n"
     ]
    }
   ],
   "source": [
    "from heapq import heapify,heappop,heappush\n",
    "\n",
    "def find_min_cost(ropes):\n",
    "    heapify(ropes)\n",
    "    cost=0\n",
    "    while len(ropes) >1:\n",
    "        sum=heappop(ropes)+heappop(ropes)\n",
    "        heappush(ropes,sum)\n",
    "        cost+=sum\n",
    "    return sum\n",
    "\n",
    "print(find_min_cost([5,4,2,8]))"
   ]
  },
  {
   "cell_type": "code",
   "execution_count": null,
   "metadata": {},
   "outputs": [],
   "source": []
  }
 ],
 "metadata": {
  "kernelspec": {
   "display_name": "deep",
   "language": "python",
   "name": "python3"
  },
  "language_info": {
   "codemirror_mode": {
    "name": "ipython",
    "version": 3
   },
   "file_extension": ".py",
   "mimetype": "text/x-python",
   "name": "python",
   "nbconvert_exporter": "python",
   "pygments_lexer": "ipython3",
   "version": "3.11.4"
  }
 },
 "nbformat": 4,
 "nbformat_minor": 2
}
