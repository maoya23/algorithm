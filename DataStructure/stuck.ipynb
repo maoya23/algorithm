{
 "cells": [
  {
   "cell_type": "markdown",
   "metadata": {},
   "source": [
    "#### スタック\n",
    "\n",
    "- 抽象データ型であり、最後に追加した要素だけを消去できる線形データ構造\n",
    "- 定義されている主な操作はプッシュとポップのの二種類\n",
    "1. プッシュ：スタックに新しい要素を追加する\n",
    "1. ポップ：スタックから要素を消去する"
   ]
  },
  {
   "cell_type": "code",
   "execution_count": 1,
   "metadata": {},
   "outputs": [],
   "source": [
    "class Stack:\n",
    "    def __init__(self):\n",
    "        self.items=[]\n",
    "\n",
    "    def push(self,data):\n",
    "        self.items.append(data)\n",
    "\n",
    "#l.popで最後の要素を消去する\n",
    "    def pop(self):\n",
    "        return self.items.pop()\n",
    "    \n",
    "    def size(self):\n",
    "        return len(self.items)\n",
    "\n",
    "#スタックが空かどうかをブール値で返す\n",
    "    def is_empty(self):\n",
    "        return len(self.items)==0\n",
    "\n",
    "#スタックの最後の要素を返す\n",
    "    def peek(self):\n",
    "        return self.items[-1]"
   ]
  },
  {
   "cell_type": "markdown",
   "metadata": {},
   "source": [
    "#### 連結リストを用いたスタックの作成\n"
   ]
  },
  {
   "cell_type": "code",
   "execution_count": 2,
   "metadata": {},
   "outputs": [],
   "source": [
    "class Node:\n",
    "    def __init__(self,data):\n",
    "        self.data=data\n",
    "        self.next=None\n",
    "\n",
    "class Stack_list:\n",
    "    def __init__(self):\n",
    "        self.head=None\n",
    "    \n",
    "    #ノードを作って、headがなかったらノードをヘッドにする。\n",
    "    #ヘッドがある場合、node.nextにそれを入れてノードをヘッドにする\n",
    "    def push(self,data):\n",
    "        node=Node(data)\n",
    "        if self.head is None:\n",
    "            self.head=node\n",
    "        else:\n",
    "            node.next=self.head\n",
    "            self.head=node\n",
    "\n",
    "    #リストから最初の要素を消去してそのノードを返すと\n",
    "    # 二番目の要素が最初のリストになる\n",
    "    def pop (self):\n",
    "        if self.head is None:\n",
    "            raise IndexError('pop from empty stack')\n",
    "        poppednode=self.head\n",
    "        self.head=self.head.next\n",
    "        return poppednode.data\n",
    "    \n"
   ]
  },
  {
   "cell_type": "code",
   "execution_count": 3,
   "metadata": {},
   "outputs": [
    {
     "name": "stdout",
     "output_type": "stream",
     "text": [
      "3\n",
      "2\n",
      "1\n"
     ]
    }
   ],
   "source": [
    "stack=Stack_list()\n",
    "stack.push(1)\n",
    "stack.push(2)\n",
    "stack.push(3)\n",
    "\n",
    "for i in range(3):\n",
    "\n",
    "    print(stack.pop())"
   ]
  },
  {
   "cell_type": "markdown",
   "metadata": {},
   "source": [
    "#### Stackを使って文字列を反転させる"
   ]
  },
  {
   "cell_type": "code",
   "execution_count": 4,
   "metadata": {},
   "outputs": [
    {
     "name": "stdout",
     "output_type": "stream",
     "text": [
      "[98, 78, 65, 54, 34, 12]\n",
      "myG yM\n"
     ]
    }
   ],
   "source": [
    "a_list=[12,34,54,65,78,98]\n",
    "\n",
    "print(a_list[::-1])\n",
    "print(''.join(reversed('My Gym')))"
   ]
  },
  {
   "cell_type": "code",
   "execution_count": 5,
   "metadata": {},
   "outputs": [
    {
     "name": "stdout",
     "output_type": "stream",
     "text": [
      "myG yM\n"
     ]
    }
   ],
   "source": [
    "def reverse_string(a_string):\n",
    "    stack=[]\n",
    "    string=''\n",
    "    for c in a_string:\n",
    "        stack.append(c)\n",
    "    for _ in a_string:\n",
    "        string +=stack.pop()\n",
    "    return string\n",
    "\n",
    "print(reverse_string('My Gym'))"
   ]
  },
  {
   "cell_type": "markdown",
   "metadata": {},
   "source": [
    "#### 最小値を保持するスタックの作成\n",
    "- 追加、消去、最小値の取得はO(1)で実行できる\n",
    "- self.minの最後の値は常に最終値にしておく\n",
    "- 実際のスタックはself.mainの方。それとは別にself.minを作成する"
   ]
  },
  {
   "cell_type": "code",
   "execution_count": 6,
   "metadata": {},
   "outputs": [],
   "source": [
    "class MinStack():\n",
    "    def __init__(self):\n",
    "        self.main=[]\n",
    "        self.min=[]\n",
    "\n",
    "    def push(self,n):\n",
    "        if len(self.main)==0:\n",
    "            self.min.append(n)\n",
    "        elif n<= self.min[-1]:\n",
    "            self.min.append(n)\n",
    "        else:\n",
    "            self.min.append(self.min[-1])\n",
    "        self.main.append(n)\n",
    "\n",
    "    def pop(self):\n",
    "        self.min.pop()\n",
    "        return self.main.pop()\n",
    "    \n",
    "    def get_min(self):\n",
    "        return self.min[-1]\n",
    "    "
   ]
  },
  {
   "cell_type": "code",
   "execution_count": 7,
   "metadata": {},
   "outputs": [
    {
     "name": "stdout",
     "output_type": "stream",
     "text": [
      "[10]\n",
      "[10]\n"
     ]
    }
   ],
   "source": [
    "min_stack=MinStack()\n",
    "min_stack.push(10)\n",
    "\n",
    "print(min_stack.main)\n",
    "print(min_stack.min)"
   ]
  },
  {
   "cell_type": "code",
   "execution_count": 8,
   "metadata": {},
   "outputs": [
    {
     "name": "stdout",
     "output_type": "stream",
     "text": [
      "[10, 15]\n",
      "[10, 10]\n"
     ]
    }
   ],
   "source": [
    "min_stack.push(15)\n",
    "#mainは順当に追加した値\n",
    "#minは最小値だけを追加した値\n",
    "print(min_stack.main)\n",
    "print(min_stack.min)"
   ]
  },
  {
   "cell_type": "code",
   "execution_count": 10,
   "metadata": {},
   "outputs": [
    {
     "name": "stdout",
     "output_type": "stream",
     "text": [
      "[10]\n",
      "[10]\n"
     ]
    }
   ],
   "source": [
    "min_stack.pop()\n",
    "print(min_stack.main)\n",
    "print(min_stack.min)"
   ]
  },
  {
   "cell_type": "markdown",
   "metadata": {},
   "source": [
    "#### 括弧用のスタック\n",
    "\n",
    "- 文字が括弧開きならスタックに追加する\n",
    "- 文字が括弧とじで、スタックが空ならばFalseを返す（スタックに括弧開きがない）\n",
    "- 括弧開きにスタックがあれば、括弧とじと対になる括弧開きをpopで消す"
   ]
  },
  {
   "cell_type": "code",
   "execution_count": 12,
   "metadata": {},
   "outputs": [],
   "source": [
    "def check_parentheses(a_string):\n",
    "    stack=[]\n",
    "    for c in a_string:\n",
    "        if c=='(':\n",
    "            stack.append(c)\n",
    "        if c==')':\n",
    "            if len(stack)==0:\n",
    "                return False\n",
    "            else:\n",
    "                stack.pop()\n",
    "    return len(stack)==0"
   ]
  },
  {
   "cell_type": "code",
   "execution_count": 14,
   "metadata": {},
   "outputs": [
    {
     "name": "stdout",
     "output_type": "stream",
     "text": [
      "True\n",
      "False\n"
     ]
    }
   ],
   "source": [
    "print(check_parentheses('str(1)'))\n",
    "print(check_parentheses('print(Hi'))"
   ]
  },
  {
   "cell_type": "code",
   "execution_count": null,
   "metadata": {},
   "outputs": [],
   "source": []
  }
 ],
 "metadata": {
  "kernelspec": {
   "display_name": "deep",
   "language": "python",
   "name": "python3"
  },
  "language_info": {
   "codemirror_mode": {
    "name": "ipython",
    "version": 3
   },
   "file_extension": ".py",
   "mimetype": "text/x-python",
   "name": "python",
   "nbconvert_exporter": "python",
   "pygments_lexer": "ipython3",
   "version": "3.11.4"
  }
 },
 "nbformat": 4,
 "nbformat_minor": 2
}
